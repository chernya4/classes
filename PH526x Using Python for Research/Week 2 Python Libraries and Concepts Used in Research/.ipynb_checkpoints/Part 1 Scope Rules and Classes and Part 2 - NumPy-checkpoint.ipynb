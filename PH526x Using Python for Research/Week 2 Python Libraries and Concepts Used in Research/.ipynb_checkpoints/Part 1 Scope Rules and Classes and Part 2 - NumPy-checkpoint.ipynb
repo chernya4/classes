{
 "cells": [
  {
   "cell_type": "markdown",
   "metadata": {},
   "source": [
    "# Scope Rules #\n",
    "\n",
    "If you have varibales or functions with the same name, how do we know which variables Python uses at any given time. \n",
    "\n",
    "Like imagine if you have two for loops taht all start: for i in list_a: and for i in list_b: , how do we know that one (i) won't mess with the others?\n",
    "\n",
    "\n",
    "**LEGB**\n",
    "\n",
    "- L - local (current function you're in)\n",
    "- E - enclosing function (function that called the current function)\n",
    "- G - global (module in which function was defined)\n",
    "- B - built in (Python's Built in Name Space).\n",
    "\n",
    "\n",
    "**Name Error Exception** - when Python cannot resolve the name -> i.e. it can't find an object that has the name you requested. **Program Stops at This Point**\n",
    "\n",
    "**You can manipulate global variables from within functions**\n",
    "\n",
    "**Important Terminology to Remember**:\n",
    "- Argument: an object that is passed to a function as its input when the function is called.\n",
    "- Parameter: variable that is used in the function definition to refer to that argument. \n",
    "\n",
    "**As Soon as Python Exits a Function - variables created in that function are deleted**\n"
   ]
  },
  {
   "cell_type": "code",
   "execution_count": 6,
   "metadata": {},
   "outputs": [
    {
     "data": {
      "text/plain": [
       "[1, 1, 1]"
      ]
     },
     "execution_count": 6,
     "metadata": {},
     "output_type": "execute_result"
    }
   ],
   "source": [
    "def update():\n",
    "    x.append(1)\n"
   ]
  },
  {
   "cell_type": "code",
   "execution_count": 5,
   "metadata": {},
   "outputs": [
    {
     "data": {
      "text/plain": [
       "[1, 1, 1]"
      ]
     },
     "execution_count": 5,
     "metadata": {},
     "output_type": "execute_result"
    }
   ],
   "source": [
    "\n",
    "\n",
    "## Steps Python goes through to find x - Using LEGB Rule ##\n",
    "# Step 1: Looks for x inside local scope (in this case that means the function: update)\n",
    "# Step 2: The global layer -> the module or the namespace where the function update was defined.\n",
    "# The global layer DOES contain an object named x.\n",
    "\n"
   ]
  },
  {
   "cell_type": "code",
   "execution_count": null,
   "metadata": {},
   "outputs": [],
   "source": [
    "x=[1,1]\n",
    "update()\n",
    "x"
   ]
  },
  {
   "cell_type": "code",
   "execution_count": 9,
   "metadata": {},
   "outputs": [
    {
     "name": "stdout",
     "output_type": "stream",
     "text": [
      "main:  1 [0, 1, 2, 3]\n",
      "update:  2 [0, 1, 2, 3, 4]\n",
      "main:  1 [0, 1, 2, 3, 4]\n"
     ]
    }
   ],
   "source": [
    "def update (n, x): # Scopre Rules Inner Layer of Onion\n",
    "    n = 2\n",
    "    x.append(4) # Second line appends number 4 to list we created in main function.\n",
    "    print(\"update: \",n,x)\n",
    "\n",
    "def main(): # Scopre rules middle layer of onion\n",
    "    n = 1\n",
    "    x = [0,1,2,3]\n",
    "    print(\"main: \", n, x)\n",
    "    update(n,x) \n",
    "    print(\"main: \", n, x)\n",
    "\n",
    "main() # Scopre rules outer layer of onion"
   ]
  },
  {
   "cell_type": "code",
   "execution_count": 10,
   "metadata": {},
   "outputs": [
    {
     "name": "stdout",
     "output_type": "stream",
     "text": [
      "2\n",
      "1\n"
     ]
    }
   ],
   "source": [
    "## Exercises ##\n",
    "\n",
    "def increment(n):\n",
    "    n += 1\n",
    "    print(n)\n",
    "\n",
    "n = 1\n",
    "increment(n)\n",
    "print(n)\n"
   ]
  },
  {
   "cell_type": "code",
   "execution_count": 11,
   "metadata": {},
   "outputs": [
    {
     "name": "stdout",
     "output_type": "stream",
     "text": [
      "10\n"
     ]
    }
   ],
   "source": [
    "def increment(n):\n",
    "    n += 1\n",
    "    return n\n",
    "    \n",
    "n = 1\n",
    "while n < 10:\n",
    "    n = increment(n)\n",
    "print(n)"
   ]
  },
  {
   "cell_type": "markdown",
   "metadata": {},
   "source": [
    "# Classes and Object-Oriented Programming #"
   ]
  },
  {
   "cell_type": "markdown",
   "metadata": {},
   "source": [
    "**Emphasis on functions and functional programming in our class**\n",
    "\n",
    "Good to know at least SOME basic stuff about classes and object oriented programming. \n",
    "\n",
    "**Objects** - consist of internal data and methods that perform operations ont he data.\n",
    "- When an object of a particular type is created that object is called an **instance of that type.**\n",
    "\n",
    "You may find that an existing object type doesn't fully suit your needs in which case\n",
    "you can create a new type of oject known as a **class**.\n",
    "\n",
    "Even if you need a new object type: it likely resembles other object types in some way.\n",
    "YOu will need to use **Inheritance** - you can define a new class (object type)\n",
    "that inherits properties from an existing object type. "
   ]
  },
  {
   "cell_type": "code",
   "execution_count": 13,
   "metadata": {},
   "outputs": [
    {
     "data": {
      "text/plain": [
       "[3, 3, 4, 5, 6, 8, 9, 11]"
      ]
     },
     "execution_count": 13,
     "metadata": {},
     "output_type": "execute_result"
    }
   ],
   "source": [
    "ml = [5,9,3,6,8,11,4,3]\n",
    "ml.sort()\n",
    "ml\n",
    "\n",
    "## How to create a new class (basically a new type of python object)\n",
    "\n",
    "## BLUE PRINT OF A NEW CLASS - SPECIFIES INTERNAL STRUCTURE of these New Types of Objects ##\n",
    "## DOES NOT: Create an object of that type. Creates an object that's not an object ##\n",
    "\n",
    "class MyList(list): # Put list in parentheses - This is how python specifies inheritance. Base class: list. Derived Class My List\n",
    "                    # MyList can re-define inherited attributes and add new attributes that list didnt have.\n",
    "    \n",
    "    \n",
    "    \n",
    "    "
   ]
  },
  {
   "cell_type": "code",
   "execution_count": null,
   "metadata": {},
   "outputs": [],
   "source": []
  }
 ],
 "metadata": {
  "kernelspec": {
   "display_name": "Python 3",
   "language": "python",
   "name": "python3"
  },
  "language_info": {
   "codemirror_mode": {
    "name": "ipython",
    "version": 3
   },
   "file_extension": ".py",
   "mimetype": "text/x-python",
   "name": "python",
   "nbconvert_exporter": "python",
   "pygments_lexer": "ipython3",
   "version": "3.7.9"
  }
 },
 "nbformat": 4,
 "nbformat_minor": 4
}
