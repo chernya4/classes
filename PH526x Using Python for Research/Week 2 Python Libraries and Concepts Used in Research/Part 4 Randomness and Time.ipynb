{
 "cells": [
  {
   "cell_type": "markdown",
   "metadata": {},
   "source": [
    "# Simulating Randomness #\n",
    "\n",
    "A lot of times we model those parts of a process in relatively simple terms and we assume, true or\n",
    "not, taht the rest is noise."
   ]
  },
  {
   "cell_type": "code",
   "execution_count": 6,
   "metadata": {},
   "outputs": [
    {
     "data": {
      "text/plain": [
       "'H'"
      ]
     },
     "execution_count": 6,
     "metadata": {},
     "output_type": "execute_result"
    }
   ],
   "source": [
    "# The flip of a single coin #\n",
    "import random\n",
    "random.choice([\"H\", \"T\"])  # Picks one of two elements in input list"
   ]
  },
  {
   "cell_type": "code",
   "execution_count": 7,
   "metadata": {},
   "outputs": [
    {
     "data": {
      "text/plain": [
       "0"
      ]
     },
     "execution_count": 7,
     "metadata": {},
     "output_type": "execute_result"
    }
   ],
   "source": [
    "random.choice([0,1])"
   ]
  },
  {
   "cell_type": "code",
   "execution_count": 8,
   "metadata": {},
   "outputs": [
    {
     "data": {
      "text/plain": [
       "2"
      ]
     },
     "execution_count": 8,
     "metadata": {},
     "output_type": "execute_result"
    }
   ],
   "source": [
    "random.choice([1,2,3,4,5,6]) # Roll Die"
   ]
  },
  {
   "cell_type": "code",
   "execution_count": 13,
   "metadata": {},
   "outputs": [
    {
     "data": {
      "text/plain": [
       "2"
      ]
     },
     "execution_count": 13,
     "metadata": {},
     "output_type": "execute_result"
    }
   ],
   "source": [
    "random.choice(range(1,7)) # Range stops before we hit the stop value # STILL ROLL DIE"
   ]
  },
  {
   "cell_type": "code",
   "execution_count": 16,
   "metadata": {},
   "outputs": [
    {
     "data": {
      "text/plain": [
       "range(1, 7)"
      ]
     },
     "execution_count": 16,
     "metadata": {},
     "output_type": "execute_result"
    }
   ],
   "source": [
    "# PICKS ONE OBJECT OUT OF RANGE # \n",
    "# We end up returning the range object every time :)\n",
    "\n",
    "random.choice([range(1,7)])"
   ]
  },
  {
   "cell_type": "markdown",
   "metadata": {},
   "source": [
    "**Challenge** one die with six faces, one die with eight faces, and one die with ten faces.\n",
    "How can you simulate one outcome for a process, where on of these dice, chosen unifromly at random, is rolled just one time. "
   ]
  },
  {
   "cell_type": "code",
   "execution_count": 18,
   "metadata": {},
   "outputs": [
    {
     "data": {
      "text/plain": [
       "range(1, 11)"
      ]
     },
     "execution_count": 18,
     "metadata": {},
     "output_type": "execute_result"
    }
   ],
   "source": [
    "# First lets think about choosing a die.\n",
    "\n",
    "random.choice([range(1,7), range(1,9), range(1,11)] )# list of range objects (representing dice)\n",
    "# remember (1,7) means we stop short of the actual number so its 1->6\n"
   ]
  },
  {
   "cell_type": "code",
   "execution_count": 21,
   "metadata": {},
   "outputs": [
    {
     "data": {
      "text/plain": [
       "10"
      ]
     },
     "execution_count": 21,
     "metadata": {},
     "output_type": "execute_result"
    }
   ],
   "source": [
    "random.choice(random.choice([range(1,7), range(1,9), range(1,11)] )) # randomly pick a die\n",
    "# and then randomly pick a value on that die."
   ]
  },
  {
   "cell_type": "code",
   "execution_count": 24,
   "metadata": {},
   "outputs": [
    {
     "data": {
      "text/plain": [
       "5"
      ]
     },
     "execution_count": 24,
     "metadata": {},
     "output_type": "execute_result"
    }
   ],
   "source": [
    "random.choice(range(1,9))"
   ]
  },
  {
   "cell_type": "code",
   "execution_count": 28,
   "metadata": {},
   "outputs": [
    {
     "data": {
      "text/plain": [
       "4"
      ]
     },
     "execution_count": 28,
     "metadata": {},
     "output_type": "execute_result"
    }
   ],
   "source": [
    "random.choice(list([1,2,3,4]))"
   ]
  },
  {
   "cell_type": "code",
   "execution_count": 29,
   "metadata": {},
   "outputs": [
    {
     "ename": "TypeError",
     "evalue": "choice() takes 2 positional arguments but 3 were given",
     "output_type": "error",
     "traceback": [
      "\u001b[0;31m---------------------------------------------------------------------------\u001b[0m",
      "\u001b[0;31mTypeError\u001b[0m                                 Traceback (most recent call last)",
      "\u001b[0;32m<ipython-input-29-b901f78422f7>\u001b[0m in \u001b[0;36m<module>\u001b[0;34m\u001b[0m\n\u001b[0;32m----> 1\u001b[0;31m \u001b[0msum\u001b[0m\u001b[0;34m(\u001b[0m\u001b[0mrandom\u001b[0m\u001b[0;34m.\u001b[0m\u001b[0mchoice\u001b[0m\u001b[0;34m(\u001b[0m\u001b[0mrange\u001b[0m\u001b[0;34m(\u001b[0m\u001b[0;36m10\u001b[0m\u001b[0;34m)\u001b[0m\u001b[0;34m,\u001b[0m\u001b[0;36m10\u001b[0m\u001b[0;34m)\u001b[0m\u001b[0;34m)\u001b[0m\u001b[0;34m\u001b[0m\u001b[0;34m\u001b[0m\u001b[0m\n\u001b[0m",
      "\u001b[0;31mTypeError\u001b[0m: choice() takes 2 positional arguments but 3 were given"
     ]
    }
   ],
   "source": [
    "sum(random.choice(range(10),10))"
   ]
  },
  {
   "cell_type": "code",
   "execution_count": 30,
   "metadata": {},
   "outputs": [
    {
     "data": {
      "text/plain": [
       "50"
      ]
     },
     "execution_count": 30,
     "metadata": {},
     "output_type": "execute_result"
    }
   ],
   "source": [
    "sum(random.choice(range(10)) for i in range(10))"
   ]
  },
  {
   "cell_type": "markdown",
   "metadata": {},
   "source": [
    "# Examples Involving Randomness #\n",
    "\n",
    "Rolling a die 100 times and plotting a histogram of the outcomes."
   ]
  },
  {
   "cell_type": "code",
   "execution_count": 13,
   "metadata": {},
   "outputs": [
    {
     "data": {
      "text/plain": [
       "3"
      ]
     },
     "execution_count": 13,
     "metadata": {},
     "output_type": "execute_result"
    }
   ],
   "source": [
    "import random\n",
    "import matplotlib.pyplot as plt\n",
    "import numpy as np\n",
    "# throw a single die\n",
    "random.choice([1,2,3,4,5,6]) # Throws one die just one time. "
   ]
  },
  {
   "cell_type": "code",
   "execution_count": 23,
   "metadata": {},
   "outputs": [],
   "source": [
    "rolls = [] # empty list to store all the roll data\n",
    "for k in range(100):\n",
    "    rolls.append(random.choice([1,2,3,4,5,6]))"
   ]
  },
  {
   "cell_type": "code",
   "execution_count": 24,
   "metadata": {},
   "outputs": [
    {
     "data": {
      "text/plain": [
       "100"
      ]
     },
     "execution_count": 24,
     "metadata": {},
     "output_type": "execute_result"
    }
   ],
   "source": [
    "len(rolls)"
   ]
  },
  {
   "cell_type": "code",
   "execution_count": 25,
   "metadata": {},
   "outputs": [
    {
     "data": {
      "image/png": "[encoded data removed]",
      "text/plain": [
       "<Figure size 432x288 with 1 Axes>"
      ]
     },
     "metadata": {
      "needs_background": "light"
     },
     "output_type": "display_data"
    }
   ],
   "source": [
    "plt.hist(rolls, bins = np.linspace(0.5, 6.5, 7)); # 6 bins seven evenly spaced points\n",
    "# I think the half spacing is just there for the bins to center \n",
    "# around the digit you want"
   ]
  },
  {
   "cell_type": "code",
   "execution_count": 27,
   "metadata": {},
   "outputs": [
    {
     "data": {
      "text/plain": [
       "35"
      ]
     },
     "execution_count": 27,
     "metadata": {},
     "output_type": "execute_result"
    }
   ],
   "source": [
    "# Rolling Ten Independent Dies #\n",
    "\n",
    "# Y woudld be combo of 10 die rolls die1 + die2 + die3 ...\n",
    "\n",
    "# PRedict what the program shoudl do\n",
    "#### Max val 60, Min val 0\n",
    "#### Histogram should peak at center. All 1's or all 6's are unlikely\n",
    "\n",
    "# A single instance of rolling 10 dies. How do we have \n",
    "y = 0\n",
    "for k in range(10): \n",
    "    x = random.choice([1,2,3,4,5,6])\n",
    "    y = y + x\n",
    "y\n",
    "\n"
   ]
  },
  {
   "cell_type": "code",
   "execution_count": 39,
   "metadata": {},
   "outputs": [
    {
     "data": {
      "text/plain": [
       "10"
      ]
     },
     "execution_count": 39,
     "metadata": {},
     "output_type": "execute_result"
    }
   ],
   "source": [
    "Ys = [] # Emty list to run Y's\n",
    "y = 0\n",
    "for rep in range(1000000):\n",
    "    y = 0 # Have to reset individual y counter\n",
    "    for k in range(10):\n",
    "        x = random.choice([1,2,3,4,5,6])\n",
    "        y = y + x\n",
    "    Ys.append(y)\n",
    "min(Ys)"
   ]
  },
  {
   "cell_type": "code",
   "execution_count": 40,
   "metadata": {},
   "outputs": [
    {
     "data": {
      "text/plain": [
       "58"
      ]
     },
     "execution_count": 40,
     "metadata": {},
     "output_type": "execute_result"
    }
   ],
   "source": [
    "max(Ys)"
   ]
  },
  {
   "cell_type": "code",
   "execution_count": 41,
   "metadata": {},
   "outputs": [
    {
     "data": {
      "image/png": "[encoded data removed]",
      "text/plain": [
       "<Figure size 432x288 with 1 Axes>"
      ]
     },
     "metadata": {
      "needs_background": "light"
     },
     "output_type": "display_data"
    }
   ],
   "source": [
    "plt.hist(Ys);"
   ]
  },
  {
   "cell_type": "markdown",
   "metadata": {},
   "source": [
    "**Central Limit Theorem** - sum of a large number of random variables regardless of their distribution will approximately follow a normal distribution. THE DISTRIBUTION OF THE SUM OF MANY RANDOM VARIABLES IS APPROXIMATELY NORMAL.\n",
    "\n",
    "You can sum together many random variables whose distribution is nothing like a normal distribution (like die rolls) or even coin flips. The distribution of the sum will always get closer and closre to normal distribution. "
   ]
  },
  {
   "cell_type": "code",
   "execution_count": 43,
   "metadata": {},
   "outputs": [
    {
     "data": {
      "text/plain": [
       "2"
      ]
     },
     "execution_count": 43,
     "metadata": {},
     "output_type": "execute_result"
    }
   ],
   "source": [
    "## Exericises ##\n",
    "random.choice(list((1,2,3,4))) # CASTING A TOUPLE AS A LISTA #"
   ]
  },
  {
   "cell_type": "markdown",
   "metadata": {},
   "source": [
    "# Using the NumPy Random Module #\n",
    "- NumPy module has all sorts of random variables.\n",
    "- Its very fast."
   ]
  },
  {
   "cell_type": "code",
   "execution_count": 46,
   "metadata": {},
   "outputs": [
    {
     "data": {
      "text/plain": [
       "0.8109586712119652"
      ]
     },
     "execution_count": 46,
     "metadata": {},
     "output_type": "execute_result"
    }
   ],
   "source": [
    "# Starting with generating numbers from #\n",
    "#the standard uniform distribution #\n",
    "import numpy as np\n",
    "np.random.random()"
   ]
  },
  {
   "cell_type": "code",
   "execution_count": 47,
   "metadata": {},
   "outputs": [
    {
     "data": {
      "text/plain": [
       "array([0.39415593, 0.15695114, 0.38370864, 0.24443828, 0.34668095])"
      ]
     },
     "execution_count": 47,
     "metadata": {},
     "output_type": "execute_result"
    }
   ],
   "source": [
    "# Array of random numbers\n",
    "np.random.random(5)"
   ]
  },
  {
   "cell_type": "code",
   "execution_count": 49,
   "metadata": {},
   "outputs": [
    {
     "data": {
      "text/plain": [
       "array([[0.0285105 , 0.19379582, 0.34486152],\n",
       "       [0.55677845, 0.90987463, 0.5715483 ],\n",
       "       [0.18680369, 0.280606  , 0.97233189],\n",
       "       [0.51923692, 0.16586425, 0.05123393],\n",
       "       [0.70582939, 0.43965442, 0.26878178]])"
      ]
     },
     "execution_count": 49,
     "metadata": {},
     "output_type": "execute_result"
    }
   ],
   "source": [
    "#2-D Array of Random NUmbers #\n",
    "np.random.random((5,3)) # (rows, collumns)"
   ]
  },
  {
   "cell_type": "markdown",
   "metadata": {},
   "source": [
    "### NumPy Normal Distribution ###\n",
    "- Requires mean and standard deviation as input parameters.\n",
    "- **Standard Nrmal Distribution** - mean = 0, standard deviation = 1\n",
    "\n",
    "- START SMALL WHEN WRITING YOUR CODE"
   ]
  },
  {
   "cell_type": "code",
   "execution_count": 51,
   "metadata": {},
   "outputs": [
    {
     "data": {
      "text/plain": [
       "1.2466641866785877"
      ]
     },
     "execution_count": 51,
     "metadata": {},
     "output_type": "execute_result"
    }
   ],
   "source": [
    "np.random.normal(0,1) # mean of distribution, std dev = 1"
   ]
  },
  {
   "cell_type": "code",
   "execution_count": 52,
   "metadata": {},
   "outputs": [
    {
     "data": {
      "text/plain": [
       "array([-0.75562952,  1.09383825, -0.91381941,  0.83492018, -0.0925671 ])"
      ]
     },
     "execution_count": 52,
     "metadata": {},
     "output_type": "execute_result"
    }
   ],
   "source": [
    "# Array of numbers -> length the third argument\n",
    "np.random.normal(0,1,5)"
   ]
  },
  {
   "cell_type": "code",
   "execution_count": 53,
   "metadata": {},
   "outputs": [],
   "source": [
    "# Generating 2d or even 3d arrays of random numbers #\n",
    "# SPECIFY DIMENISONS OF ARRAY AS TOUPLE #"
   ]
  },
  {
   "cell_type": "code",
   "execution_count": 54,
   "metadata": {},
   "outputs": [
    {
     "data": {
      "text/plain": [
       "array([[ 0.0368753 ,  0.6759005 , -1.19175992, -1.22678282,  0.31485864],\n",
       "       [-0.46189744,  0.40921395, -1.03810713, -2.19474746,  1.40556037]])"
      ]
     },
     "execution_count": 54,
     "metadata": {},
     "output_type": "execute_result"
    }
   ],
   "source": [
    "np.random.normal(0,1, (2,5))"
   ]
  },
  {
   "cell_type": "code",
   "execution_count": 65,
   "metadata": {},
   "outputs": [
    {
     "data": {
      "text/plain": [
       "array([[3, 2, 1],\n",
       "       [3, 6, 3],\n",
       "       [4, 4, 3],\n",
       "       [3, 4, 2],\n",
       "       [4, 3, 3],\n",
       "       [1, 1, 3],\n",
       "       [4, 6, 3],\n",
       "       [6, 4, 3],\n",
       "       [4, 3, 5],\n",
       "       [5, 2, 6]])"
      ]
     },
     "execution_count": 65,
     "metadata": {},
     "output_type": "execute_result"
    }
   ],
   "source": [
    "## Revisiting \"10 die roll and adding result\" example ###\n",
    "# OVERALL STRATEGY #\n",
    "# Generate a table where each element corresponds to a roll of a \n",
    "# die such that each element is a number between 1 and 6. \n",
    "#   x1.    x2     x3     x4 . . .\n",
    "\n",
    "#Y1\n",
    "\n",
    "#Y2\n",
    "\n",
    "#Y3\n",
    "\n",
    "#Y4\n",
    "\n",
    "#.\n",
    "#.\n",
    "#.\n",
    "\n",
    "np.random.randint(1,7) #-> Generates random integers\n",
    "\n",
    "X = np.random.randint(1,7, (10,3))\n",
    "X"
   ]
  },
  {
   "cell_type": "code",
   "execution_count": 66,
   "metadata": {},
   "outputs": [
    {
     "data": {
      "text/plain": [
       "\u001b[0;31mSignature:\u001b[0m\n",
       "\u001b[0mnp\u001b[0m\u001b[0;34m.\u001b[0m\u001b[0msum\u001b[0m\u001b[0;34m(\u001b[0m\u001b[0;34m\u001b[0m\n",
       "\u001b[0;34m\u001b[0m    \u001b[0ma\u001b[0m\u001b[0;34m,\u001b[0m\u001b[0;34m\u001b[0m\n",
       "\u001b[0;34m\u001b[0m    \u001b[0maxis\u001b[0m\u001b[0;34m=\u001b[0m\u001b[0;32mNone\u001b[0m\u001b[0;34m,\u001b[0m\u001b[0;34m\u001b[0m\n",
       "\u001b[0;34m\u001b[0m    \u001b[0mdtype\u001b[0m\u001b[0;34m=\u001b[0m\u001b[0;32mNone\u001b[0m\u001b[0;34m,\u001b[0m\u001b[0;34m\u001b[0m\n",
       "\u001b[0;34m\u001b[0m    \u001b[0mout\u001b[0m\u001b[0;34m=\u001b[0m\u001b[0;32mNone\u001b[0m\u001b[0;34m,\u001b[0m\u001b[0;34m\u001b[0m\n",
       "\u001b[0;34m\u001b[0m    \u001b[0mkeepdims\u001b[0m\u001b[0;34m=\u001b[0m\u001b[0;34m<\u001b[0m\u001b[0mno\u001b[0m \u001b[0mvalue\u001b[0m\u001b[0;34m>\u001b[0m\u001b[0;34m,\u001b[0m\u001b[0;34m\u001b[0m\n",
       "\u001b[0;34m\u001b[0m    \u001b[0minitial\u001b[0m\u001b[0;34m=\u001b[0m\u001b[0;34m<\u001b[0m\u001b[0mno\u001b[0m \u001b[0mvalue\u001b[0m\u001b[0;34m>\u001b[0m\u001b[0;34m,\u001b[0m\u001b[0;34m\u001b[0m\n",
       "\u001b[0;34m\u001b[0m    \u001b[0mwhere\u001b[0m\u001b[0;34m=\u001b[0m\u001b[0;34m<\u001b[0m\u001b[0mno\u001b[0m \u001b[0mvalue\u001b[0m\u001b[0;34m>\u001b[0m\u001b[0;34m,\u001b[0m\u001b[0;34m\u001b[0m\n",
       "\u001b[0;34m\u001b[0m\u001b[0;34m)\u001b[0m\u001b[0;34m\u001b[0m\u001b[0;34m\u001b[0m\u001b[0m\n",
       "\u001b[0;31mDocstring:\u001b[0m\n",
       "Sum of array elements over a given axis.\n",
       "\n",
       "Parameters\n",
       "----------\n",
       "a : array_like\n",
       "    Elements to sum.\n",
       "axis : None or int or tuple of ints, optional\n",
       "    Axis or axes along which a sum is performed.  The default,\n",
       "    axis=None, will sum all of the elements of the input array.  If\n",
       "    axis is negative it counts from the last to the first axis.\n",
       "\n",
       "    .. versionadded:: 1.7.0\n",
       "\n",
       "    If axis is a tuple of ints, a sum is performed on all of the axes\n",
       "    specified in the tuple instead of a single axis or all the axes as\n",
       "    before.\n",
       "dtype : dtype, optional\n",
       "    The type of the returned array and of the accumulator in which the\n",
       "    elements are summed.  The dtype of `a` is used by default unless `a`\n",
       "    has an integer dtype of less precision than the default platform\n",
       "    integer.  In that case, if `a` is signed then the platform integer\n",
       "    is used while if `a` is unsigned then an unsigned integer of the\n",
       "    same precision as the platform integer is used.\n",
       "out : ndarray, optional\n",
       "    Alternative output array in which to place the result. It must have\n",
       "    the same shape as the expected output, but the type of the output\n",
       "    values will be cast if necessary.\n",
       "keepdims : bool, optional\n",
       "    If this is set to True, the axes which are reduced are left\n",
       "    in the result as dimensions with size one. With this option,\n",
       "    the result will broadcast correctly against the input array.\n",
       "\n",
       "    If the default value is passed, then `keepdims` will not be\n",
       "    passed through to the `sum` method of sub-classes of\n",
       "    `ndarray`, however any non-default value will be.  If the\n",
       "    sub-class' method does not implement `keepdims` any\n",
       "    exceptions will be raised.\n",
       "initial : scalar, optional\n",
       "    Starting value for the sum. See `~numpy.ufunc.reduce` for details.\n",
       "\n",
       "    .. versionadded:: 1.15.0\n",
       "\n",
       "where : array_like of bool, optional\n",
       "    Elements to include in the sum. See `~numpy.ufunc.reduce` for details.\n",
       "\n",
       "    .. versionadded:: 1.17.0\n",
       "\n",
       "Returns\n",
       "-------\n",
       "sum_along_axis : ndarray\n",
       "    An array with the same shape as `a`, with the specified\n",
       "    axis removed.   If `a` is a 0-d array, or if `axis` is None, a scalar\n",
       "    is returned.  If an output array is specified, a reference to\n",
       "    `out` is returned.\n",
       "\n",
       "See Also\n",
       "--------\n",
       "ndarray.sum : Equivalent method.\n",
       "\n",
       "add.reduce : Equivalent functionality of `add`.\n",
       "\n",
       "cumsum : Cumulative sum of array elements.\n",
       "\n",
       "trapz : Integration of array values using the composite trapezoidal rule.\n",
       "\n",
       "mean, average\n",
       "\n",
       "Notes\n",
       "-----\n",
       "Arithmetic is modular when using integer types, and no error is\n",
       "raised on overflow.\n",
       "\n",
       "The sum of an empty array is the neutral element 0:\n",
       "\n",
       ">>> np.sum([])\n",
       "0.0\n",
       "\n",
       "For floating point numbers the numerical precision of sum (and\n",
       "``np.add.reduce``) is in general limited by directly adding each number\n",
       "individually to the result causing rounding errors in every step.\n",
       "However, often numpy will use a  numerically better approach (partial\n",
       "pairwise summation) leading to improved precision in many use-cases.\n",
       "This improved precision is always provided when no ``axis`` is given.\n",
       "When ``axis`` is given, it will depend on which axis is summed.\n",
       "Technically, to provide the best speed possible, the improved precision\n",
       "is only used when the summation is along the fast axis in memory.\n",
       "Note that the exact precision may vary depending on other parameters.\n",
       "In contrast to NumPy, Python's ``math.fsum`` function uses a slower but\n",
       "more precise approach to summation.\n",
       "Especially when summing a large number of lower precision floating point\n",
       "numbers, such as ``float32``, numerical errors can become significant.\n",
       "In such cases it can be advisable to use `dtype=\"float64\"` to use a higher\n",
       "precision for the output.\n",
       "\n",
       "Examples\n",
       "--------\n",
       ">>> np.sum([0.5, 1.5])\n",
       "2.0\n",
       ">>> np.sum([0.5, 0.7, 0.2, 1.5], dtype=np.int32)\n",
       "1\n",
       ">>> np.sum([[0, 1], [0, 5]])\n",
       "6\n",
       ">>> np.sum([[0, 1], [0, 5]], axis=0)\n",
       "array([0, 6])\n",
       ">>> np.sum([[0, 1], [0, 5]], axis=1)\n",
       "array([1, 5])\n",
       ">>> np.sum([[0, 1], [np.nan, 5]], where=[False, True], axis=1)\n",
       "array([1., 5.])\n",
       "\n",
       "If the accumulator is too small, overflow occurs:\n",
       "\n",
       ">>> np.ones(128, dtype=np.int8).sum(dtype=np.int8)\n",
       "-128\n",
       "\n",
       "You can also start the sum with a value other than zero:\n",
       "\n",
       ">>> np.sum([10], initial=5)\n",
       "15\n",
       "\u001b[0;31mFile:\u001b[0m      ~/opt/anaconda3/lib/python3.8/site-packages/numpy/core/fromnumeric.py\n",
       "\u001b[0;31mType:\u001b[0m      function\n"
      ]
     },
     "metadata": {},
     "output_type": "display_data"
    }
   ],
   "source": [
    "np.sum?"
   ]
  },
  {
   "cell_type": "code",
   "execution_count": 67,
   "metadata": {},
   "outputs": [
    {
     "data": {
      "text/plain": [
       "104"
      ]
     },
     "execution_count": 67,
     "metadata": {},
     "output_type": "execute_result"
    }
   ],
   "source": [
    "np.sum(X)"
   ]
  },
  {
   "cell_type": "code",
   "execution_count": 68,
   "metadata": {},
   "outputs": [
    {
     "data": {
      "text/plain": [
       "array([37, 35, 32])"
      ]
     },
     "execution_count": 68,
     "metadata": {},
     "output_type": "execute_result"
    }
   ],
   "source": [
    "np.sum(X, axis = 0) #Means you will sum over all rows in array. \n"
   ]
  },
  {
   "cell_type": "code",
   "execution_count": 69,
   "metadata": {},
   "outputs": [
    {
     "data": {
      "text/plain": [
       "array([ 6, 12, 11,  9, 10,  5, 13, 13, 12, 13])"
      ]
     },
     "execution_count": 69,
     "metadata": {},
     "output_type": "execute_result"
    }
   ],
   "source": [
    "np.sum(X, axis = 1) # Sum over collumns in array."
   ]
  },
  {
   "cell_type": "code",
   "execution_count": 71,
   "metadata": {},
   "outputs": [],
   "source": [
    "# To Sum over the 3rd dimension you will be able to sum that too with axis = 2 #"
   ]
  },
  {
   "cell_type": "code",
   "execution_count": 73,
   "metadata": {},
   "outputs": [
    {
     "data": {
      "text/plain": [
       "array([ 6, 12, 11,  9, 10,  5, 13, 13, 12, 13])"
      ]
     },
     "execution_count": 73,
     "metadata": {},
     "output_type": "execute_result"
    }
   ],
   "source": [
    "### NOW BACK TO THE WORK ####\n",
    "Y = np.sum(X, axis = 1)\n",
    "Y"
   ]
  },
  {
   "cell_type": "code",
   "execution_count": 81,
   "metadata": {},
   "outputs": [
    {
     "data": {
      "image/png": "[encoded data removed]",
      "text/plain": [
       "<Figure size 432x288 with 1 Axes>"
      ]
     },
     "metadata": {
      "needs_background": "light"
     },
     "output_type": "display_data"
    }
   ],
   "source": [
    "X = np.random.randint(1,7, (1000000, 10))\n",
    "Y = np.sum(X, axis = 1)\n",
    "plt.hist(Y);"
   ]
  },
  {
   "cell_type": "code",
   "execution_count": 89,
   "metadata": {},
   "outputs": [
    {
     "data": {
      "text/plain": [
       "\u001b[0;31mDocstring:\u001b[0m\n",
       "random(size=None)\n",
       "\n",
       "Return random floats in the half-open interval [0.0, 1.0). Alias for\n",
       "`random_sample` to ease forward-porting to the new random API.\n",
       "\u001b[0;31mType:\u001b[0m      builtin_function_or_method\n"
      ]
     },
     "metadata": {},
     "output_type": "display_data"
    }
   ],
   "source": [
    "# Exercises #\n",
    "\n",
    "\n",
    "np.random.random?"
   ]
  },
  {
   "cell_type": "code",
   "execution_count": 93,
   "metadata": {},
   "outputs": [
    {
     "data": {
      "text/plain": [
       "array([356, 367, 337, 331, 340, 369, 346, 348, 349, 330])"
      ]
     },
     "execution_count": 93,
     "metadata": {},
     "output_type": "execute_result"
    }
   ],
   "source": [
    "x= np.sum(np.random.randint(1,7,(100,10)), axis=0)\n",
    "x"
   ]
  },
  {
   "cell_type": "markdown",
   "metadata": {},
   "source": [
    "# Measuring Time #"
   ]
  },
  {
   "cell_type": "code",
   "execution_count": 8,
   "metadata": {},
   "outputs": [
    {
     "data": {
      "text/plain": [
       "5.0772999998116575e-05"
      ]
     },
     "execution_count": 8,
     "metadata": {},
     "output_type": "execute_result"
    }
   ],
   "source": [
    "import time\n",
    "import random\n",
    "import numpy as np\n",
    "start_time = time.perf_counter()\n",
    "end_time = time.perf_counter()\n",
    "end_time - start_time"
   ]
  },
  {
   "cell_type": "code",
   "execution_count": 9,
   "metadata": {},
   "outputs": [
    {
     "data": {
      "text/plain": [
       "8.304797095000026"
      ]
     },
     "execution_count": 9,
     "metadata": {},
     "output_type": "execute_result"
    }
   ],
   "source": [
    "start_time = time.perf_counter()\n",
    "\n",
    "Ys = [] # Emty list to run Y's\n",
    "y = 0\n",
    "for rep in range(1000000):\n",
    "    y = 0 # Have to reset individual y counter\n",
    "    for k in range(10):\n",
    "        x = random.choice([1,2,3,4,5,6])\n",
    "        y = y + x\n",
    "    Ys.append(y)\n",
    "min(Ys)\n",
    "\n",
    "end_time = time.perf_counter()\n",
    "\n",
    "end_time - start_time\n"
   ]
  },
  {
   "cell_type": "code",
   "execution_count": 10,
   "metadata": {},
   "outputs": [
    {
     "data": {
      "text/plain": [
       "0.18660108300002776"
      ]
     },
     "execution_count": 10,
     "metadata": {},
     "output_type": "execute_result"
    }
   ],
   "source": [
    "start_time = time.perf_counter()\n",
    "\n",
    "\n",
    "x= np.sum(np.random.randint(1,7,(1000000,10)), axis=0)\n",
    "\n",
    "end_time = time.perf_counter()\n",
    "\n",
    "end_time - start_time\n",
    "\n"
   ]
  },
  {
   "cell_type": "markdown",
   "metadata": {},
   "source": [
    "# Random Walks #\n"
   ]
  },
  {
   "cell_type": "code",
   "execution_count": 22,
   "metadata": {},
   "outputs": [
    {
     "data": {
      "text/plain": [
       "array([[-1.34601629, -1.10977349,  0.39035578,  0.62792112, -0.35287919],\n",
       "       [ 0.9914024 , -0.25744974, -0.68631154, -0.2948065 , -0.38293114]])"
      ]
     },
     "execution_count": 22,
     "metadata": {},
     "output_type": "execute_result"
    }
   ],
   "source": [
    "# X, y coordinate system where the random walker starts at (0,0)\n",
    "# at each increment it moes a step that takes time (t) + 1\n",
    "\n",
    "# Description of Random Walker #\n",
    "# 1. Starts at origin\n",
    "# 2. takes 100 steps\n",
    "# 3. each step is samples from standard normal distribution\n",
    "# 4. X/Y coordinates\n",
    "\n",
    "import matplotlib.pyplot as plt\n",
    "\n",
    "\n",
    "# Generating the delta into the x and the y direction.\n",
    "# Two arrays representing delx and dely\n",
    "\n",
    "delta_x = np.random.normal(0, 1, (2,5)) #mean, std.dev., and table width\n",
    "delta_x\n"
   ]
  },
  {
   "cell_type": "code",
   "execution_count": 21,
   "metadata": {},
   "outputs": [
    {
     "data": {
      "text/plain": [
       "[<matplotlib.lines.Line2D at 0x11a5a8d00>]"
      ]
     },
     "execution_count": 21,
     "metadata": {},
     "output_type": "execute_result"
    },
    {
     "data": {
      "image/png": "[encoded data removed]",
      "text/plain": [
       "<Figure size 432x288 with 1 Axes>"
      ]
     },
     "metadata": {
      "needs_background": "light"
     },
     "output_type": "display_data"
    }
   ],
   "source": [
    "plt.plot(delta_x[0], delta_x[1], \"go\")"
   ]
  },
  {
   "cell_type": "markdown",
   "metadata": {},
   "source": [
    "**Cumulative Sum** - A cumulative sum is a sequence of partial sums of a given sequence. For example, the cumulative sums of the sequence {a,b,c,...}, are a, a+b, a+b+c,\n",
    "\n",
    "In the below image the top is the sequence and the bottom is the cumulative sum. \n",
    "\n",
    "<img src=\"cum_sum.jpeg\" style=\"width: 400px;\">\n"
   ]
  },
  {
   "cell_type": "code",
   "execution_count": 25,
   "metadata": {},
   "outputs": [
    {
     "data": {
      "text/plain": [
       "array([[-1.34601629, -2.45578978, -2.065434  , -1.43751288, -1.79039206],\n",
       "       [ 0.9914024 ,  0.73395266,  0.04764111, -0.24716539, -0.63009653]])"
      ]
     },
     "execution_count": 25,
     "metadata": {},
     "output_type": "execute_result"
    }
   ],
   "source": [
    "X = np.cumsum(delta_x, axis = 1) # axis = 1 takes sum of all collumns. Meaning addition will hppen for each row just like it happens in the above diagram\n",
    "X"
   ]
  },
  {
   "cell_type": "code",
   "execution_count": 51,
   "metadata": {},
   "outputs": [
    {
     "data": {
      "image/png": "[encoded data removed]",
      "text/plain": [
       "<Figure size 432x288 with 1 Axes>"
      ]
     },
     "metadata": {
      "needs_background": "light"
     },
     "output_type": "display_data"
    }
   ],
   "source": [
    "# No games - real deal now #\n",
    "delta_x = np.random.normal(0,1,(2,10000))\n",
    "X = np.cumsum(delta_x, axis=1)\n",
    "\n",
    "## Need to concatenate (join) two by 1 array consisting of zeros to make sure our random walk starts at zero ##\n",
    "X_o = np.array([[0],[0]])\n",
    "X_new = np.concatenate((X_o, X), axis = 1) #We're adding collumns\n",
    "\n",
    "plt.plot(X_new[0], X_new[1], \"ro-\")\n",
    "plt.savefig(\"rw.pdf\")\n",
    "\n"
   ]
  },
  {
   "cell_type": "code",
   "execution_count": 52,
   "metadata": {},
   "outputs": [
    {
     "data": {
      "text/plain": [
       "\u001b[0;31mDocstring:\u001b[0m\n",
       "concatenate((a1, a2, ...), axis=0, out=None)\n",
       "\n",
       "Join a sequence of arrays along an existing axis.\n",
       "\n",
       "Parameters\n",
       "----------\n",
       "a1, a2, ... : sequence of array_like\n",
       "    The arrays must have the same shape, except in the dimension\n",
       "    corresponding to `axis` (the first, by default).\n",
       "axis : int, optional\n",
       "    The axis along which the arrays will be joined.  If axis is None,\n",
       "    arrays are flattened before use.  Default is 0.\n",
       "out : ndarray, optional\n",
       "    If provided, the destination to place the result. The shape must be\n",
       "    correct, matching that of what concatenate would have returned if no\n",
       "    out argument were specified.\n",
       "\n",
       "Returns\n",
       "-------\n",
       "res : ndarray\n",
       "    The concatenated array.\n",
       "\n",
       "See Also\n",
       "--------\n",
       "ma.concatenate : Concatenate function that preserves input masks.\n",
       "array_split : Split an array into multiple sub-arrays of equal or\n",
       "              near-equal size.\n",
       "split : Split array into a list of multiple sub-arrays of equal size.\n",
       "hsplit : Split array into multiple sub-arrays horizontally (column wise).\n",
       "vsplit : Split array into multiple sub-arrays vertically (row wise).\n",
       "dsplit : Split array into multiple sub-arrays along the 3rd axis (depth).\n",
       "stack : Stack a sequence of arrays along a new axis.\n",
       "block : Assemble arrays from blocks.\n",
       "hstack : Stack arrays in sequence horizontally (column wise).\n",
       "vstack : Stack arrays in sequence vertically (row wise).\n",
       "dstack : Stack arrays in sequence depth wise (along third dimension).\n",
       "column_stack : Stack 1-D arrays as columns into a 2-D array.\n",
       "\n",
       "Notes\n",
       "-----\n",
       "When one or more of the arrays to be concatenated is a MaskedArray,\n",
       "this function will return a MaskedArray object instead of an ndarray,\n",
       "but the input masks are *not* preserved. In cases where a MaskedArray\n",
       "is expected as input, use the ma.concatenate function from the masked\n",
       "array module instead.\n",
       "\n",
       "Examples\n",
       "--------\n",
       ">>> a = np.array([[1, 2], [3, 4]])\n",
       ">>> b = np.array([[5, 6]])\n",
       ">>> np.concatenate((a, b), axis=0)\n",
       "array([[1, 2],\n",
       "       [3, 4],\n",
       "       [5, 6]])\n",
       ">>> np.concatenate((a, b.T), axis=1)\n",
       "array([[1, 2, 5],\n",
       "       [3, 4, 6]])\n",
       ">>> np.concatenate((a, b), axis=None)\n",
       "array([1, 2, 3, 4, 5, 6])\n",
       "\n",
       "This function will not preserve masking of MaskedArray inputs.\n",
       "\n",
       ">>> a = np.ma.arange(3)\n",
       ">>> a[1] = np.ma.masked\n",
       ">>> b = np.arange(2, 5)\n",
       ">>> a\n",
       "masked_array(data=[0, --, 2],\n",
       "             mask=[False,  True, False],\n",
       "       fill_value=999999)\n",
       ">>> b\n",
       "array([2, 3, 4])\n",
       ">>> np.concatenate([a, b])\n",
       "masked_array(data=[0, 1, 2, 2, 3, 4],\n",
       "             mask=False,\n",
       "       fill_value=999999)\n",
       ">>> np.ma.concatenate([a, b])\n",
       "masked_array(data=[0, --, 2, 2, 3, 4],\n",
       "             mask=[False,  True, False, False, False, False],\n",
       "       fill_value=999999)\n",
       "\u001b[0;31mType:\u001b[0m      function\n"
      ]
     },
     "metadata": {},
     "output_type": "display_data"
    }
   ],
   "source": [
    "## Exercices ##\n",
    "np.concatenate?"
   ]
  },
  {
   "cell_type": "code",
   "execution_count": null,
   "metadata": {},
   "outputs": [],
   "source": []
  }
 ],
 "metadata": {
  "kernelspec": {
   "display_name": "Python 3",
   "language": "python",
   "name": "python3"
  },
  "language_info": {
   "codemirror_mode": {
    "name": "ipython",
    "version": 3
   },
   "file_extension": ".py",
   "mimetype": "text/x-python",
   "name": "python",
   "nbconvert_exporter": "python",
   "pygments_lexer": "ipython3",
   "version": "3.8.5"
  }
 },
 "nbformat": 4,
 "nbformat_minor": 4
}
