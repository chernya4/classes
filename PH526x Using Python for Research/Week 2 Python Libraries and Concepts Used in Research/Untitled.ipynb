{
 "cells": [
  {
   "cell_type": "code",
   "execution_count": null,
   "metadata": {},
   "outputs": [],
   "source": [
    "## Assuming you are given a noisy 1-D array, can you write some python code to reduce the noise in this array? \n",
    "\n",
    "import scipy.ndimage.filters as filt\n",
    "res = filt.uniform_filter(d,size=4)\n",
    "print res\n",
    "[ 1  1  2  3  4  5  6  7  8  9 10 11 12 13 14 15 16 17 18 19]"
   ]
  },
  {
   "cell_type": "code",
   "execution_count": null,
   "metadata": {},
   "outputs": [],
   "source": [
    "##Given\n",
    "data array #3-D Array\n",
    "array_fix_pat = [][]\n",
    "\n",
    "i = 0 \n",
    "j = 0\n",
    "for element in data_array[1]:\n",
    "    i = i + 1\n",
    "    for element_2 in data_array[2]:\n",
    "        j = j + 1\n",
    "        array_fix_pat[][] = np.mean(element_2)"
   ]
  }
 ],
 "metadata": {
  "kernelspec": {
   "display_name": "Python 3",
   "language": "python",
   "name": "python3"
  },
  "language_info": {
   "codemirror_mode": {
    "name": "ipython",
    "version": 3
   },
   "file_extension": ".py",
   "mimetype": "text/x-python",
   "name": "python",
   "nbconvert_exporter": "python",
   "pygments_lexer": "ipython3",
   "version": "3.8.5"
  }
 },
 "nbformat": 4,
 "nbformat_minor": 4
}
