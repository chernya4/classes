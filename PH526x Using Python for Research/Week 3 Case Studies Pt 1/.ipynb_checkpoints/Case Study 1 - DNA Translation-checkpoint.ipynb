{
 "cells": [
  {
   "cell_type": "markdown",
   "id": "5427d5d8-38f2-4913-99fc-3c19220d3f30",
   "metadata": {},
   "source": [
    "# Central Dogma of Molecular Biology  - describes the flow of genetic information in a biological system. \n",
    "- DNA gets transcribed to RNA (DNA - when read in a sequence of 3 letters - is a dictionary of life)\n",
    "- RNA translated into Proteins\n",
    "\n"
   ]
  },
  {
   "cell_type": "markdown",
   "id": "fc14f29f-32b9-4122-aad8-a02f5d602976",
   "metadata": {},
   "source": [
    "# Importing Data into Python #\n",
    "- Large file and interested in certain lines -> use for loop.\n",
    "- Read entire file in one go if you don't want to skip over any lines. \n"
   ]
  },
  {
   "cell_type": "code",
   "execution_count": 35,
   "id": "7121cafd-37ab-4d4f-b76b-bce953a8ba22",
   "metadata": {},
   "outputs": [
    {
     "data": {
      "text/plain": [
       "'/Users/purudevisitingscholar/Desktop/hrvrd/Week 3 Case Studies Pt 1'"
      ]
     },
     "execution_count": 35,
     "metadata": {},
     "output_type": "execute_result"
    }
   ],
   "source": [
    "pwd #Print woring directory"
   ]
  },
  {
   "cell_type": "code",
   "execution_count": 36,
   "id": "788409a3-4c76-474a-b27d-00e358d5d10d",
   "metadata": {},
   "outputs": [
    {
     "data": {
      "text/plain": [
       "'GGTCAGAAAAAGCCCTCTCCATGTCTACTCACGATACATCCCTGAAAACCACTGAGGAAGTGGCTTTTCA\\nGATCATCTTGCTTTGCCAGTTTGGGGTTGGGACTTTTGCCAATGTATTTCTCTTTGTCTATAATTTCTCT\\nCCAATCTCGACTGGTTCTAAACAGAGGCCCAGACAAGTGATTTTAAGACACATGGCTGTGGCCAATGCCT\\nTAACTCTCTTCCTCACTATATTTCCAAACAACATGATGACTTTTGCTCCAATTATTCCTCAAACTGACCT\\nCAAATGTAAATTAGAATTCTTCACTCGCCTCGTGGCAAGAAGCACAAACTTGTGTTCAACTTGTGTTCTG\\nAGTATCCATCAGTTTGTCACACTTGTTCCTGTTAATTCAGGTAAAGGAATACTCAGAGCAAGTGTCACAA\\nACATGGCAAGTTATTCTTGTTACAGTTGTTGGTTCTTCAGTGTCTTAAATAACATCTACATTCCAATTAA\\nGGTCACTGGTCCACAGTTAACAGACAATAACAATAACTCTAAAAGCAAGTTGTTCTGTTCCACTTCTGAT\\nTTCAGTGTAGGCATTGTCTTCTTGAGGTTTGCCCATGATGCCACATTCATGAGCATCATGGTCTGGACCA\\nGTGTCTCCATGGTACTTCTCCTCCATAGACATTGTCAGAGAATGCAGTACATATTCACTCTCAATCAGGA\\nCCCCAGGGGCCAAGCAGAGACCACAGCAACCCATACTATCCTGATGCTGGTAGTCACATTTGTTGGCTTT\\nTATCTTCTAAGTCTTATTTGTATCATCTTTTACACCTATTTTATATATTCTCATCATTCCCTGAGGCATT\\nGCAATGACATTTTGGTTTCGGGTTTCCCTACAATTTCTCCTTTACTGTTGACCTTCAGAGACCCTAAGGG\\nTCCTTGTTCTGTGTTCTTCAACTGTTGAAAGCCAGAGTCACTAAAAATGCCAAACACAGAAGACAGCTTT\\nGCTAATACCATTAAATACTTTATTCCATAAATATGTTTTTAAAAGCTTGTATGAACAAGGTATGGTGCTC\\nACTGCTATACTTATAAAAGAGTAAGGTTATAATCACTTGTTGATATGAAAAGATTTCTGGTTGGAATCTG\\nATTGAAACAGTGAGTTATTCACCACCCTCCATTCTCT\\n'"
      ]
     },
     "execution_count": 36,
     "metadata": {},
     "output_type": "execute_result"
    }
   ],
   "source": [
    "inputfile = \"dna.txt\"\n",
    "f = open(inputfile, \"r\") # ri s short for reading\n",
    "seq = f.read() # Reads the entire file\n",
    "seq"
   ]
  },
  {
   "cell_type": "code",
   "execution_count": 37,
   "id": "f01359c8-2c86-49dc-9e0c-624544937e43",
   "metadata": {},
   "outputs": [
    {
     "name": "stdout",
     "output_type": "stream",
     "text": [
      "GGTCAGAAAAAGCCCTCTCCATGTCTACTCACGATACATCCCTGAAAACCACTGAGGAAGTGGCTTTTCA\n",
      "GATCATCTTGCTTTGCCAGTTTGGGGTTGGGACTTTTGCCAATGTATTTCTCTTTGTCTATAATTTCTCT\n",
      "CCAATCTCGACTGGTTCTAAACAGAGGCCCAGACAAGTGATTTTAAGACACATGGCTGTGGCCAATGCCT\n",
      "TAACTCTCTTCCTCACTATATTTCCAAACAACATGATGACTTTTGCTCCAATTATTCCTCAAACTGACCT\n",
      "CAAATGTAAATTAGAATTCTTCACTCGCCTCGTGGCAAGAAGCACAAACTTGTGTTCAACTTGTGTTCTG\n",
      "AGTATCCATCAGTTTGTCACACTTGTTCCTGTTAATTCAGGTAAAGGAATACTCAGAGCAAGTGTCACAA\n",
      "ACATGGCAAGTTATTCTTGTTACAGTTGTTGGTTCTTCAGTGTCTTAAATAACATCTACATTCCAATTAA\n",
      "GGTCACTGGTCCACAGTTAACAGACAATAACAATAACTCTAAAAGCAAGTTGTTCTGTTCCACTTCTGAT\n",
      "TTCAGTGTAGGCATTGTCTTCTTGAGGTTTGCCCATGATGCCACATTCATGAGCATCATGGTCTGGACCA\n",
      "GTGTCTCCATGGTACTTCTCCTCCATAGACATTGTCAGAGAATGCAGTACATATTCACTCTCAATCAGGA\n",
      "CCCCAGGGGCCAAGCAGAGACCACAGCAACCCATACTATCCTGATGCTGGTAGTCACATTTGTTGGCTTT\n",
      "TATCTTCTAAGTCTTATTTGTATCATCTTTTACACCTATTTTATATATTCTCATCATTCCCTGAGGCATT\n",
      "GCAATGACATTTTGGTTTCGGGTTTCCCTACAATTTCTCCTTTACTGTTGACCTTCAGAGACCCTAAGGG\n",
      "TCCTTGTTCTGTGTTCTTCAACTGTTGAAAGCCAGAGTCACTAAAAATGCCAAACACAGAAGACAGCTTT\n",
      "GCTAATACCATTAAATACTTTATTCCATAAATATGTTTTTAAAAGCTTGTATGAACAAGGTATGGTGCTC\n",
      "ACTGCTATACTTATAAAAGAGTAAGGTTATAATCACTTGTTGATATGAAAAGATTTCTGGTTGGAATCTG\n",
      "ATTGAAACAGTGAGTTATTCACCACCCTCCATTCTCT\n",
      "\n"
     ]
    }
   ],
   "source": [
    "## Note how \"\\n\" appears in the text. This will mess with us. \n",
    "print(seq) # \"\\n\" is removed!"
   ]
  },
  {
   "cell_type": "code",
   "execution_count": 38,
   "id": "f8f6386e-7a28-4357-b890-5faf9db6adb6",
   "metadata": {},
   "outputs": [
    {
     "data": {
      "text/plain": [
       "'GGTCAGAAAAAGCCCTCTCCATGTCTACTCACGATACATCCCTGAAAACCACTGAGGAAGTGGCTTTTCAGATCATCTTGCTTTGCCAGTTTGGGGTTGGGACTTTTGCCAATGTATTTCTCTTTGTCTATAATTTCTCTCCAATCTCGACTGGTTCTAAACAGAGGCCCAGACAAGTGATTTTAAGACACATGGCTGTGGCCAATGCCTTAACTCTCTTCCTCACTATATTTCCAAACAACATGATGACTTTTGCTCCAATTATTCCTCAAACTGACCTCAAATGTAAATTAGAATTCTTCACTCGCCTCGTGGCAAGAAGCACAAACTTGTGTTCAACTTGTGTTCTGAGTATCCATCAGTTTGTCACACTTGTTCCTGTTAATTCAGGTAAAGGAATACTCAGAGCAAGTGTCACAAACATGGCAAGTTATTCTTGTTACAGTTGTTGGTTCTTCAGTGTCTTAAATAACATCTACATTCCAATTAAGGTCACTGGTCCACAGTTAACAGACAATAACAATAACTCTAAAAGCAAGTTGTTCTGTTCCACTTCTGATTTCAGTGTAGGCATTGTCTTCTTGAGGTTTGCCCATGATGCCACATTCATGAGCATCATGGTCTGGACCAGTGTCTCCATGGTACTTCTCCTCCATAGACATTGTCAGAGAATGCAGTACATATTCACTCTCAATCAGGACCCCAGGGGCCAAGCAGAGACCACAGCAACCCATACTATCCTGATGCTGGTAGTCACATTTGTTGGCTTTTATCTTCTAAGTCTTATTTGTATCATCTTTTACACCTATTTTATATATTCTCATCATTCCCTGAGGCATTGCAATGACATTTTGGTTTCGGGTTTCCCTACAATTTCTCCTTTACTGTTGACCTTCAGAGACCCTAAGGGTCCTTGTTCTGTGTTCTTCAACTGTTGAAAGCCAGAGTCACTAAAAATGCCAAACACAGAAGACAGCTTTGCTAATACCATTAAATACTTTATTCCATAAATATGTTTTTAAAAGCTTGTATGAACAAGGTATGGTGCTCACTGCTATACTTATAAAAGAGTAAGGTTATAATCACTTGTTGATATGAAAAGATTTCTGGTTGGAATCTGATTGAAACAGTGAGTTATTCACCACCCTCCATTCTCT'"
      ]
     },
     "execution_count": 38,
     "metadata": {},
     "output_type": "execute_result"
    }
   ],
   "source": [
    "## REPLACE METHOD ##\n",
    "#- Takes every occurence of the first argument substring with the second argument: which is another substring. \n",
    "\n",
    "seq = seq.replace(\"\\n\", \"\") # replace \"\\n\" with nothing\n",
    "\n",
    "## STRINGS ARE IMMUTABLE ##\n",
    "#- Method returns a new string.\n",
    "seq"
   ]
  },
  {
   "cell_type": "code",
   "execution_count": 39,
   "id": "171658a4-ee37-42d5-94f7-6e3c66f57ba4",
   "metadata": {},
   "outputs": [
    {
     "data": {
      "text/plain": [
       "'GGTCAGAAAAAGCCCTCTCCATGTCTACTCACGATACATCCCTGAAAACCACTGAGGAAGTGGCTTTTCAGATCATCTTGCTTTGCCAGTTTGGGGTTGGGACTTTTGCCAATGTATTTCTCTTTGTCTATAATTTCTCTCCAATCTCGACTGGTTCTAAACAGAGGCCCAGACAAGTGATTTTAAGACACATGGCTGTGGCCAATGCCTTAACTCTCTTCCTCACTATATTTCCAAACAACATGATGACTTTTGCTCCAATTATTCCTCAAACTGACCTCAAATGTAAATTAGAATTCTTCACTCGCCTCGTGGCAAGAAGCACAAACTTGTGTTCAACTTGTGTTCTGAGTATCCATCAGTTTGTCACACTTGTTCCTGTTAATTCAGGTAAAGGAATACTCAGAGCAAGTGTCACAAACATGGCAAGTTATTCTTGTTACAGTTGTTGGTTCTTCAGTGTCTTAAATAACATCTACATTCCAATTAAGGTCACTGGTCCACAGTTAACAGACAATAACAATAACTCTAAAAGCAAGTTGTTCTGTTCCACTTCTGATTTCAGTGTAGGCATTGTCTTCTTGAGGTTTGCCCATGATGCCACATTCATGAGCATCATGGTCTGGACCAGTGTCTCCATGGTACTTCTCCTCCATAGACATTGTCAGAGAATGCAGTACATATTCACTCTCAATCAGGACCCCAGGGGCCAAGCAGAGACCACAGCAACCCATACTATCCTGATGCTGGTAGTCACATTTGTTGGCTTTTATCTTCTAAGTCTTATTTGTATCATCTTTTACACCTATTTTATATATTCTCATCATTCCCTGAGGCATTGCAATGACATTTTGGTTTCGGGTTTCCCTACAATTTCTCCTTTACTGTTGACCTTCAGAGACCCTAAGGGTCCTTGTTCTGTGTTCTTCAACTGTTGAAAGCCAGAGTCACTAAAAATGCCAAACACAGAAGACAGCTTTGCTAATACCATTAAATACTTTATTCCATAAATATGTTTTTAAAAGCTTGTATGAACAAGGTATGGTGCTCACTGCTATACTTATAAAAGAGTAAGGTTATAATCACTTGTTGATATGAAAAGATTTCTGGTTGGAATCTGATTGAAACAGTGAGTTATTCACCACCCTCCATTCTCT'"
      ]
     },
     "execution_count": 39,
     "metadata": {},
     "output_type": "execute_result"
    }
   ],
   "source": [
    "## SOMETIMES ANOTHER CHARACTER IS HIDING AND DEPENDING ON COMPUTER YOU HAVE -> YOU MAY MISS IT ##\n",
    "#- No harm in running another replacement script here. \n",
    "seq = seq.replace(\"\\r\", \"\")\n",
    "seq"
   ]
  },
  {
   "cell_type": "markdown",
   "id": "fe14dd85-ea7a-456a-adcc-246bb569315b",
   "metadata": {},
   "source": [
    "# Translating the DNA Sequence #\n",
    "Translation Process is essentially a table lookup operation. \n",
    "- Dictionary perfect for this.\n",
    "- **Translation Table** already defined for you. \n",
    "- Make sure to de-indent the dictionary. \n",
    "- Keys are the nucleotide sequences, values are the actual amino acids. "
   ]
  },
  {
   "cell_type": "code",
   "execution_count": 40,
   "id": "c04f8825-5c9c-4193-b907-7c00264c0651",
   "metadata": {},
   "outputs": [],
   "source": [
    "table = {\n",
    "'ATA':'I', 'ATC':'I', 'ATT':'I', 'ATG':'M',\n",
    "'ACA':'T', 'ACC':'T', 'ACG':'T', 'ACT':'T',\n",
    "'AAC':'N', 'AAT':'N', 'AAA':'K', 'AAG':'K',\n",
    "'AGC':'S', 'AGT':'S', 'AGA':'R', 'AGG':'R',\n",
    "'CTA':'L', 'CTC':'L', 'CTG':'L', 'CTT':'L',\n",
    "'CCA':'P', 'CCC':'P', 'CCG':'P', 'CCT':'P',\n",
    "'CAC':'H', 'CAT':'H', 'CAA':'Q', 'CAG':'Q',\n",
    "'CGA':'R', 'CGC':'R', 'CGG':'R', 'CGT':'R',\n",
    "'GTA':'V', 'GTC':'V', 'GTG':'V', 'GTT':'V',\n",
    "'GCA':'A', 'GCC':'A', 'GCG':'A', 'GCT':'A',\n",
    "'GAC':'D', 'GAT':'D', 'GAA':'E', 'GAG':'E',\n",
    "'GGA':'G', 'GGC':'G', 'GGG':'G', 'GGT':'G',\n",
    "'TCA':'S', 'TCC':'S', 'TCG':'S', 'TCT':'S',\n",
    "'TTC':'F', 'TTT':'F', 'TTA':'L', 'TTG':'L',\n",
    "'TAC':'Y', 'TAT':'Y', 'TAA':'_', 'TAG':'_',\n",
    "'TGC':'C', 'TGT':'C', 'TGA':'_', 'TGG':'W',\n",
    "}"
   ]
  },
  {
   "cell_type": "code",
   "execution_count": 41,
   "id": "33df70f2-98d8-405c-bf5f-42788bd1ad57",
   "metadata": {},
   "outputs": [
    {
     "data": {
      "text/plain": [
       "'Q'"
      ]
     },
     "execution_count": 41,
     "metadata": {},
     "output_type": "execute_result"
    }
   ],
   "source": [
    "table[\"CAA\"]"
   ]
  },
  {
   "cell_type": "code",
   "execution_count": 42,
   "id": "17197cb9-d2e6-4c99-80f5-3e2d6039f7cb",
   "metadata": {},
   "outputs": [
    {
     "data": {
      "text/plain": [
       "'P'"
      ]
     },
     "execution_count": 42,
     "metadata": {},
     "output_type": "execute_result"
    }
   ],
   "source": [
    "table[\"CCT\"]"
   ]
  },
  {
   "cell_type": "markdown",
   "id": "6df811b0-cb1c-4a42-9a9b-a814047e90b7",
   "metadata": {},
   "source": [
    "# Pseudo-Code Exercise #"
   ]
  },
  {
   "cell_type": "code",
   "execution_count": 43,
   "id": "f1ff658e-f399-4fcf-a085-e0d8652179ef",
   "metadata": {},
   "outputs": [],
   "source": [
    "## Step 1: CHECK THAT THE SEQUENCE YOU ARE TRANSLATING IS DIVISIBLE BY 3 ##\n",
    "\n",
    "#- Step 2: Look up each 3 letter string (codon) in table and store results\n",
    "\n",
    "#- Step 3: Continue lookups until reaching end of sequence\n",
    "\n",
    "# check that the sequence divisible by three\n",
    "    # extract single codon\n",
    "        # look up the codon and store the results\n"
   ]
  },
  {
   "cell_type": "code",
   "execution_count": 44,
   "id": "8629c4df-f67b-4770-a74a-7ffb940bcb05",
   "metadata": {},
   "outputs": [
    {
     "data": {
      "text/plain": [
       "2.3333333333333335"
      ]
     },
     "execution_count": 44,
     "metadata": {},
     "output_type": "execute_result"
    }
   ],
   "source": [
    "# modular opeartor\n",
    "\n",
    "7 / 3"
   ]
  },
  {
   "cell_type": "code",
   "execution_count": 45,
   "id": "632ce38a-bffb-45a0-9cf5-6a5b5331efbb",
   "metadata": {},
   "outputs": [
    {
     "data": {
      "text/plain": [
       "2.0"
      ]
     },
     "execution_count": 45,
     "metadata": {},
     "output_type": "execute_result"
    }
   ],
   "source": [
    "6 / 3"
   ]
  },
  {
   "cell_type": "code",
   "execution_count": 46,
   "id": "36fd1d2f-a004-4dd7-a4f4-b874f7fe80cb",
   "metadata": {},
   "outputs": [
    {
     "data": {
      "text/plain": [
       "1"
      ]
     },
     "execution_count": 46,
     "metadata": {},
     "output_type": "execute_result"
    }
   ],
   "source": [
    "7 % 3 # 3 divides 7 twice and 1 is left over"
   ]
  },
  {
   "cell_type": "code",
   "execution_count": 47,
   "id": "88ced32f-7b2f-4b10-bfb5-80def97421dc",
   "metadata": {},
   "outputs": [
    {
     "data": {
      "text/plain": [
       "0"
      ]
     },
     "execution_count": 47,
     "metadata": {},
     "output_type": "execute_result"
    }
   ],
   "source": [
    "6 % 3"
   ]
  },
  {
   "cell_type": "code",
   "execution_count": 48,
   "id": "1b50db08-9f1c-4678-9d18-b89d58504e56",
   "metadata": {},
   "outputs": [
    {
     "data": {
      "text/plain": [
       "1157"
      ]
     },
     "execution_count": 48,
     "metadata": {},
     "output_type": "execute_result"
    }
   ],
   "source": [
    "len(seq)"
   ]
  },
  {
   "cell_type": "code",
   "execution_count": 49,
   "id": "c87c3119-25d0-4a9b-9f4b-a7c5dad6af6e",
   "metadata": {},
   "outputs": [
    {
     "data": {
      "text/plain": [
       "2"
      ]
     },
     "execution_count": 49,
     "metadata": {},
     "output_type": "execute_result"
    }
   ],
   "source": [
    "len(seq) % 3 # NOT DIVISIBLE BY 3! We will need to come back to this!"
   ]
  },
  {
   "cell_type": "code",
   "execution_count": 55,
   "id": "5ac05742-9d85-4bf9-b327-bfd42d1e6a4c",
   "metadata": {},
   "outputs": [
    {
     "data": {
      "text/plain": [
       "'GGT'"
      ]
     },
     "execution_count": 55,
     "metadata": {},
     "output_type": "execute_result"
    }
   ],
   "source": [
    "if len(seq) % 3 == 0:\n",
    "    pass # Doesn't do anything but is helpful when python syntax requires SOMETHING!\n",
    "\n",
    "\n",
    "#Lets think about how to loop\n",
    "# for s in seq:\n",
    "#     print (s)\n",
    "    \n",
    "#We can build codons one character at a time, but here it may be better to use string slicing.\n",
    "\n",
    "seq[0:3] # Remember slices stop SHORT of the end point of the slice."
   ]
  },
  {
   "cell_type": "code",
   "execution_count": 56,
   "id": "b1aa3414-9a6d-4a78-989d-8fcceb58d5e2",
   "metadata": {},
   "outputs": [
    {
     "data": {
      "text/plain": [
       "'CAG'"
      ]
     },
     "execution_count": 56,
     "metadata": {},
     "output_type": "execute_result"
    }
   ],
   "source": [
    "seq[3:6]"
   ]
  },
  {
   "cell_type": "code",
   "execution_count": 57,
   "id": "a9bd02ef-7603-41b1-863e-8f057d9b9e1d",
   "metadata": {},
   "outputs": [
    {
     "data": {
      "text/plain": [
       "'AAA'"
      ]
     },
     "execution_count": 57,
     "metadata": {},
     "output_type": "execute_result"
    }
   ],
   "source": [
    "seq[6:9]"
   ]
  },
  {
   "cell_type": "code",
   "execution_count": 59,
   "id": "e992a083-7cc4-43bd-b7fc-1a98472ccf42",
   "metadata": {},
   "outputs": [
    {
     "data": {
      "text/plain": [
       "[0, 3, 6, 9]"
      ]
     },
     "execution_count": 59,
     "metadata": {},
     "output_type": "execute_result"
    }
   ],
   "source": [
    "# A range object is necessary\n",
    "\n",
    "range(0, 11, 3) # Start, stop, step size -> in order to print values, you must turn the range object into list.\n",
    "list(range(0,11,3))"
   ]
  },
  {
   "cell_type": "code",
   "execution_count": 61,
   "id": "f29363bc-8548-456d-9bd7-15106629f252",
   "metadata": {},
   "outputs": [],
   "source": [
    "## LETS GET INTO IT ##\n",
    "protein = \"\"\n",
    "if len(seq) % 3 == 0:\n",
    "    for i in range(0, len(seq), 3): # MAKES IT SKIP 3 EVERY TIME WHILE COUNTING #\n",
    "        codon = seq[i : i + 3]\n",
    "        protein = protein + table[codon] # lookup codon, get amino acid and compose protein\n",
    "        "
   ]
  },
  {
   "cell_type": "markdown",
   "id": "2ef7656b-03cb-40a0-a0f7-c62363b6e43d",
   "metadata": {},
   "source": [
    "## WRITING DOCUSTRINGS SO YOU CAN SHIFT TAB AND SEE WHAT THIS THING TAKES IN ##\n",
    "\n",
    "**Docstring** - a string literal that occurs as the first statement in a module function, class, or method definition.\n",
    "- docstrings become part of an object. \n",
    "- you can use the help function to view docstring and learn about function\n",
    "- The Docstring should:\n",
    "    - Summarize the behavior of function\n",
    "    - Document its arguments\n",
    "    - Document returned values\n",
    "    - Possible Side Effects\n",
    "    - Anything else that would be important to your user"
   ]
  },
  {
   "cell_type": "code",
   "execution_count": 64,
   "id": "2832b270-5441-40de-92e8-b6663819cb70",
   "metadata": {},
   "outputs": [],
   "source": [
    "## Make All of This Into a Function ##\n",
    "def translate(seq):\n",
    "    \"\"\" Translate a string containing a nucleotide sequence into a string\n",
    "    containing the corresponding sequence of amino acids. Nucleotides are\n",
    "    translated in triplets using the table dictionary; each amino acid\n",
    "    is encoded with a string of lenght 1\n",
    "    \"\"\"\n",
    "    \n",
    "    table = {\n",
    "    'ATA':'I', 'ATC':'I', 'ATT':'I', 'ATG':'M',\n",
    "    'ACA':'T', 'ACC':'T', 'ACG':'T', 'ACT':'T',\n",
    "    'AAC':'N', 'AAT':'N', 'AAA':'K', 'AAG':'K',\n",
    "    'AGC':'S', 'AGT':'S', 'AGA':'R', 'AGG':'R',\n",
    "    'CTA':'L', 'CTC':'L', 'CTG':'L', 'CTT':'L',\n",
    "    'CCA':'P', 'CCC':'P', 'CCG':'P', 'CCT':'P',\n",
    "    'CAC':'H', 'CAT':'H', 'CAA':'Q', 'CAG':'Q',\n",
    "    'CGA':'R', 'CGC':'R', 'CGG':'R', 'CGT':'R',\n",
    "    'GTA':'V', 'GTC':'V', 'GTG':'V', 'GTT':'V',\n",
    "    'GCA':'A', 'GCC':'A', 'GCG':'A', 'GCT':'A',\n",
    "    'GAC':'D', 'GAT':'D', 'GAA':'E', 'GAG':'E',\n",
    "    'GGA':'G', 'GGC':'G', 'GGG':'G', 'GGT':'G',\n",
    "    'TCA':'S', 'TCC':'S', 'TCG':'S', 'TCT':'S',\n",
    "    'TTC':'F', 'TTT':'F', 'TTA':'L', 'TTG':'L',\n",
    "    'TAC':'Y', 'TAT':'Y', 'TAA':'_', 'TAG':'_',\n",
    "    'TGC':'C', 'TGT':'C', 'TGA':'_', 'TGG':'W',\n",
    "    }\n",
    "    \n",
    "    protein = \"\"\n",
    "    \n",
    "    if len(seq) % 3 == 0:\n",
    "        for i in range(0, len(seq), 3): \n",
    "            codon = seq[i : i + 3]\n",
    "            protein = protein + table[codon]\n",
    "            \n",
    "    return protein\n"
   ]
  },
  {
   "cell_type": "code",
   "execution_count": 65,
   "id": "e937f468-480a-435e-985e-b72f1bacfb8d",
   "metadata": {},
   "outputs": [
    {
     "name": "stdout",
     "output_type": "stream",
     "text": [
      "Help on function translate in module __main__:\n",
      "\n",
      "translate(seq)\n",
      "    Translate a string containing a nucleotide sequence into a string\n",
      "    containing the corresponding sequence of amino acids. Nucleotides are\n",
      "    translated in triplets using the table dictionary; each amino acid\n",
      "    is encoded with a string of lenght 1\n",
      "\n"
     ]
    }
   ],
   "source": [
    "help(translate)"
   ]
  },
  {
   "cell_type": "code",
   "execution_count": 66,
   "id": "ab2244e4-8850-498b-ac62-3644e07af8ec",
   "metadata": {},
   "outputs": [
    {
     "data": {
      "text/plain": [
       "\u001b[0;31mSignature:\u001b[0m \u001b[0mtranslate\u001b[0m\u001b[0;34m(\u001b[0m\u001b[0mseq\u001b[0m\u001b[0;34m)\u001b[0m\u001b[0;34m\u001b[0m\u001b[0;34m\u001b[0m\u001b[0m\n",
       "\u001b[0;31mDocstring:\u001b[0m\n",
       "Translate a string containing a nucleotide sequence into a string\n",
       "containing the corresponding sequence of amino acids. Nucleotides are\n",
       "translated in triplets using the table dictionary; each amino acid\n",
       "is encoded with a string of lenght 1\n",
       "\u001b[0;31mFile:\u001b[0m      ~/Desktop/hrvrd/Week 3 Case Studies Pt 1/<ipython-input-64-8d47b10c6ff0>\n",
       "\u001b[0;31mType:\u001b[0m      function\n"
      ]
     },
     "metadata": {},
     "output_type": "display_data"
    }
   ],
   "source": [
    "translate?"
   ]
  },
  {
   "cell_type": "code",
   "execution_count": 69,
   "id": "c0df0990-97a5-43f5-b152-9c8d49ccc940",
   "metadata": {},
   "outputs": [
    {
     "data": {
      "text/plain": [
       "'A'"
      ]
     },
     "execution_count": 69,
     "metadata": {},
     "output_type": "execute_result"
    }
   ],
   "source": [
    "## Exercises ##\n",
    "\n",
    "table[\"GCC\"]"
   ]
  },
  {
   "cell_type": "code",
   "execution_count": 70,
   "id": "a7b37b1f-6fed-4287-b7b5-520bb33dd147",
   "metadata": {},
   "outputs": [
    {
     "data": {
      "text/plain": [
       "8"
      ]
     },
     "execution_count": 70,
     "metadata": {},
     "output_type": "execute_result"
    }
   ],
   "source": [
    "138 % 13"
   ]
  },
  {
   "cell_type": "code",
   "execution_count": 71,
   "id": "15bffb9c-9e45-4734-8099-2e23456e221c",
   "metadata": {},
   "outputs": [
    {
     "data": {
      "text/plain": [
       "'CCTGAAAACC'"
      ]
     },
     "execution_count": 71,
     "metadata": {},
     "output_type": "execute_result"
    }
   ],
   "source": [
    "seq[40:50]"
   ]
  },
  {
   "cell_type": "code",
   "execution_count": null,
   "id": "81b3594b-3318-44c7-8294-440a6655555e",
   "metadata": {},
   "outputs": [],
   "source": []
  }
 ],
 "metadata": {
  "kernelspec": {
   "display_name": "Python 3",
   "language": "python",
   "name": "python3"
  },
  "language_info": {
   "codemirror_mode": {
    "name": "ipython",
    "version": 3
   },
   "file_extension": ".py",
   "mimetype": "text/x-python",
   "name": "python",
   "nbconvert_exporter": "python",
   "pygments_lexer": "ipython3",
   "version": "3.7.10"
  }
 },
 "nbformat": 4,
 "nbformat_minor": 5
}
