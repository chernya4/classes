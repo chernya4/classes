{
 "cells": [
  {
   "cell_type": "code",
   "execution_count": 1,
   "metadata": {
    "scrolled": false
   },
   "outputs": [],
   "source": [
    "%matplotlib inline   \n",
    "                     # this sets up matplotlib to make plots show up in the notebook\n",
    "import numpy as np   # imports the numpy package, abbreviated as np\n",
    "import matplotlib    # imports the matplotlib package for making plots\n",
    "import matplotlib.pyplot as plt    # imports the part of matplotlib we use most,\n",
    "                                   #abbreviated as plt"
   ]
  },
  {
   "cell_type": "code",
   "execution_count": 2,
   "metadata": {
    "scrolled": false
   },
   "outputs": [],
   "source": [
    "import scipy.stats as stats\n",
    "import numpy.random as random\n",
    "import scipy.interpolate as interpol\n",
    "import scipy.integrate as integrate"
   ]
  },
  {
   "cell_type": "markdown",
   "metadata": {},
   "source": [
    "# Test case for today: log-normal data\n",
    "\n",
    "Let's create $10^5$ values distributed as a log-normal: $x \\sim e^{N(0,1)}$"
   ]
  },
  {
   "cell_type": "code",
   "execution_count": 3,
   "metadata": {
    "scrolled": false
   },
   "outputs": [],
   "source": [
    "data=np.exp(random.randn(100_000)) # mean of zero standard deviation of 1"
   ]
  },
  {
   "cell_type": "markdown",
   "metadata": {},
   "source": [
    "__In the below code box, plot a histogram of the array `data` as one figure and a histogram of the log of the data as a second figure.  Use 100 bins for each plot. Note:__ if you precede each plotting command by  `plt.figure()` it will make the plot on a separate set of axes, even if the code is in the same cell..."
   ]
  },
  {
   "cell_type": "code",
   "execution_count": 4,
   "metadata": {
    "scrolled": false
   },
   "outputs": [
    {
     "data": {
      "text/plain": [
       "(array([5.23782157e-01, 3.24477091e-01, 1.57449398e-01, 8.24153049e-02,\n",
       "        4.73730628e-02, 2.87966012e-02, 1.95145420e-02, 1.31207832e-02,\n",
       "        8.72661683e-03, 6.66530847e-03, 4.52994113e-03, 3.56717435e-03,\n",
       "        2.99938881e-03, 1.95021989e-03, 1.51820915e-03, 1.38243435e-03,\n",
       "        1.02448260e-03, 7.52932994e-04, 6.04815028e-04, 5.06069717e-04,\n",
       "        3.94981243e-04, 3.82638079e-04, 4.56697062e-04, 2.83892768e-04,\n",
       "        1.72804294e-04, 1.72804294e-04, 1.23431638e-04, 9.87453107e-05,\n",
       "        8.64021469e-05, 1.48117966e-04, 7.40589830e-05, 7.40589830e-05,\n",
       "        8.64021469e-05, 6.17158192e-05, 3.70294915e-05, 3.70294915e-05,\n",
       "        8.64021469e-05, 4.93726553e-05, 2.46863277e-05, 2.46863277e-05,\n",
       "        1.23431638e-05, 2.46863277e-05, 3.70294915e-05, 1.23431638e-05,\n",
       "        1.23431638e-05, 2.46863277e-05, 0.00000000e+00, 0.00000000e+00,\n",
       "        0.00000000e+00, 0.00000000e+00, 1.23431638e-05, 0.00000000e+00,\n",
       "        3.70294915e-05, 0.00000000e+00, 0.00000000e+00, 2.46863277e-05,\n",
       "        0.00000000e+00, 1.23431638e-05, 0.00000000e+00, 1.23431638e-05,\n",
       "        0.00000000e+00, 1.23431638e-05, 0.00000000e+00, 1.23431638e-05,\n",
       "        0.00000000e+00, 0.00000000e+00, 0.00000000e+00, 0.00000000e+00,\n",
       "        0.00000000e+00, 0.00000000e+00, 0.00000000e+00, 0.00000000e+00,\n",
       "        0.00000000e+00, 0.00000000e+00, 0.00000000e+00, 0.00000000e+00,\n",
       "        1.23431638e-05, 0.00000000e+00, 0.00000000e+00, 0.00000000e+00,\n",
       "        0.00000000e+00, 0.00000000e+00, 0.00000000e+00, 0.00000000e+00,\n",
       "        0.00000000e+00, 1.23431638e-05, 0.00000000e+00, 0.00000000e+00,\n",
       "        0.00000000e+00, 0.00000000e+00, 0.00000000e+00, 0.00000000e+00,\n",
       "        0.00000000e+00, 0.00000000e+00, 0.00000000e+00, 0.00000000e+00,\n",
       "        0.00000000e+00, 0.00000000e+00, 0.00000000e+00, 1.23431638e-05]),\n",
       " array([1.50307455e-02, 8.25195800e-01, 1.63536085e+00, 2.44552591e+00,\n",
       "        3.25569096e+00, 4.06585602e+00, 4.87602107e+00, 5.68618613e+00,\n",
       "        6.49635118e+00, 7.30651623e+00, 8.11668129e+00, 8.92684634e+00,\n",
       "        9.73701140e+00, 1.05471765e+01, 1.13573415e+01, 1.21675066e+01,\n",
       "        1.29776716e+01, 1.37878367e+01, 1.45980017e+01, 1.54081668e+01,\n",
       "        1.62183318e+01, 1.70284969e+01, 1.78386619e+01, 1.86488270e+01,\n",
       "        1.94589921e+01, 2.02691571e+01, 2.10793222e+01, 2.18894872e+01,\n",
       "        2.26996523e+01, 2.35098173e+01, 2.43199824e+01, 2.51301474e+01,\n",
       "        2.59403125e+01, 2.67504775e+01, 2.75606426e+01, 2.83708076e+01,\n",
       "        2.91809727e+01, 2.99911378e+01, 3.08013028e+01, 3.16114679e+01,\n",
       "        3.24216329e+01, 3.32317980e+01, 3.40419630e+01, 3.48521281e+01,\n",
       "        3.56622931e+01, 3.64724582e+01, 3.72826232e+01, 3.80927883e+01,\n",
       "        3.89029534e+01, 3.97131184e+01, 4.05232835e+01, 4.13334485e+01,\n",
       "        4.21436136e+01, 4.29537786e+01, 4.37639437e+01, 4.45741087e+01,\n",
       "        4.53842738e+01, 4.61944388e+01, 4.70046039e+01, 4.78147690e+01,\n",
       "        4.86249340e+01, 4.94350991e+01, 5.02452641e+01, 5.10554292e+01,\n",
       "        5.18655942e+01, 5.26757593e+01, 5.34859243e+01, 5.42960894e+01,\n",
       "        5.51062544e+01, 5.59164195e+01, 5.67265846e+01, 5.75367496e+01,\n",
       "        5.83469147e+01, 5.91570797e+01, 5.99672448e+01, 6.07774098e+01,\n",
       "        6.15875749e+01, 6.23977399e+01, 6.32079050e+01, 6.40180700e+01,\n",
       "        6.48282351e+01, 6.56384001e+01, 6.64485652e+01, 6.72587303e+01,\n",
       "        6.80688953e+01, 6.88790604e+01, 6.96892254e+01, 7.04993905e+01,\n",
       "        7.13095555e+01, 7.21197206e+01, 7.29298856e+01, 7.37400507e+01,\n",
       "        7.45502157e+01, 7.53603808e+01, 7.61705459e+01, 7.69807109e+01,\n",
       "        7.77908760e+01, 7.86010410e+01, 7.94112061e+01, 8.02213711e+01,\n",
       "        8.10315362e+01]),\n",
       " <BarContainer object of 100 artists>)"
      ]
     },
     "execution_count": 4,
     "metadata": {},
     "output_type": "execute_result"
    },
    {
     "data": {
      "image/png": "[encoded data removed]",
      "text/plain": [
       "<Figure size 640x480 with 1 Axes>"
      ]
     },
     "metadata": {},
     "output_type": "display_data"
    }
   ],
   "source": [
    "plt.hist(data,bins=100,density=True)"
   ]
  },
  {
   "cell_type": "markdown",
   "metadata": {},
   "source": [
    "Calculating the mean:"
   ]
  },
  {
   "cell_type": "code",
   "execution_count": 5,
   "metadata": {
    "scrolled": false
   },
   "outputs": [
    {
     "name": "stdout",
     "output_type": "stream",
     "text": [
      "1.644803765005128\n",
      "1.644803765005128\n"
     ]
    }
   ],
   "source": [
    "print(np.mean(data))\n",
    "print( data.mean() )"
   ]
  },
  {
   "cell_type": "markdown",
   "metadata": {},
   "source": [
    "Calculating the median:"
   ]
  },
  {
   "cell_type": "code",
   "execution_count": 6,
   "metadata": {
    "scrolled": false
   },
   "outputs": [
    {
     "name": "stdout",
     "output_type": "stream",
     "text": [
      "1.000264307453933\n"
     ]
    }
   ],
   "source": [
    "print(np.median(data))"
   ]
  },
  {
   "cell_type": "markdown",
   "metadata": {},
   "source": [
    "Calculating the mode:"
   ]
  },
  {
   "cell_type": "code",
   "execution_count": 7,
   "metadata": {
    "scrolled": false
   },
   "outputs": [
    {
     "name": "stdout",
     "output_type": "stream",
     "text": [
      "Unrounded: ModeResult(mode=np.float64(0.015030745544200462), count=np.int64(1))\n",
      "Rounded: ModeResult(mode=np.float64(0.34), count=np.int64(707))\n"
     ]
    }
   ],
   "source": [
    "print(f'Unrounded: {stats.mode(data)}')\n",
    "\n",
    "data_r = np.round(data,decimals=2)\n",
    "print(f'Rounded: {stats.mode(data_r)}' )"
   ]
  },
  {
   "cell_type": "code",
   "execution_count": 8,
   "metadata": {
    "scrolled": false
   },
   "outputs": [
    {
     "name": "stdout",
     "output_type": "stream",
     "text": [
      "0.3400000000000001\n"
     ]
    }
   ],
   "source": [
    "bins = np.linspace(-0.005,10.005,1002)\n",
    "counts,edges=np.histogram(data,bins=bins)\n",
    "whmax=np.argmax(counts)\n",
    "mode=(edges[whmax]+edges[whmax+1])/2\n",
    "print(mode)"
   ]
  },
  {
   "cell_type": "markdown",
   "metadata": {},
   "source": [
    "## Creating a mode function\n",
    "\n",
    "Let's define a function which can calculate the mode for any binning we might choose at the time we run it:"
   ]
  },
  {
   "cell_type": "code",
   "execution_count": 9,
   "metadata": {
    "scrolled": false
   },
   "outputs": [],
   "source": [
    "def mode2(data,**kwargs):\n",
    "## kwargs is a keyword and an equals.\n",
    "# Really nice because **kwargs can be passed in any order.\n",
    "# note: provide bins and (optionally) range keywords \n",
    "# as used in np.histogram to not use the\n",
    "# defaults of np.histogram (10 bins, full range).\n",
    "# as those are unlikely to be what you want\n",
    "    counts,edges=np.histogram(data,**kwargs)\n",
    "    whmax=np.argmax(counts)\n",
    "    mode=(edges[whmax]+edges[whmax+1])/2\n",
    "    return(mode)"
   ]
  },
  {
   "cell_type": "markdown",
   "metadata": {},
   "source": [
    "__Use the `mode2` function to calculate the mode for at least 3 different binnings of the data (differing in bin sizes).__  Since we used `**kwargs` we can include the `bins=` keyword within the `mode2` function call, and it gets passed to `np.histogram`."
   ]
  },
  {
   "cell_type": "code",
   "execution_count": 10,
   "metadata": {
    "scrolled": false
   },
   "outputs": [
    {
     "name": "stdout",
     "output_type": "stream",
     "text": [
      "0.3400000000000001\n"
     ]
    }
   ],
   "source": [
    "bins = np.linspace(-0.005,10.005,1002)\n",
    "print(mode2(data,bins=bins))"
   ]
  },
  {
   "cell_type": "markdown",
   "metadata": {},
   "source": [
    "# Calculating measures of scale\n",
    "\n",
    "First, the standard deviation:\n"
   ]
  },
  {
   "cell_type": "code",
   "execution_count": 11,
   "metadata": {
    "scrolled": false
   },
   "outputs": [
    {
     "name": "stdout",
     "output_type": "stream",
     "text": [
      "2.141857735356803 2.1418684447258003\n",
      "0.9987692253769432 0.9987742192605242\n"
     ]
    }
   ],
   "source": [
    "print( np.std(data),np.std(data,ddof=1)) # ddof divides by N-1\n",
    "print( np.std(np.log(data)),np.std(np.log(data),ddof=1))"
   ]
  },
  {
   "cell_type": "markdown",
   "metadata": {},
   "source": [
    "### Now, the average absolute deviation.  \n",
    "\n",
    "__Discuss with your group: why do these values agree or not with the standard deviation for the log-normal or normally-distributed data?__\n"
   ]
  },
  {
   "cell_type": "code",
   "execution_count": 12,
   "metadata": {
    "scrolled": false
   },
   "outputs": [
    {
     "name": "stdout",
     "output_type": "stream",
     "text": [
      "Normalized Average Absolute Deviation: 1.57669\n",
      "Normalized Average Absolute Deviation of log(data): 1.00074\n"
     ]
    }
   ],
   "source": [
    "normavgabsdev = np.mean(np.abs(data-data.mean()))/0.7979\n",
    "mnlog = np.mean(np.log(data) ) # mean of log(data)\n",
    "normavgabsdev_log = np.mean(np.abs( np.log(data)-mnlog) )/0.7979\n",
    "\n",
    "print(f'Normalized Average Absolute Deviation: {normavgabsdev:.5f}')\n",
    "print(f'Normalized Average Absolute Deviation of log(data): {normavgabsdev_log:.5f}')"
   ]
  },
  {
   "cell_type": "markdown",
   "metadata": {},
   "source": [
    "### Calculating the MAD:\n",
    "\n",
    "__Discuss with your group: why do these values agree or not with the standard deviation?__\n"
   ]
  },
  {
   "cell_type": "code",
   "execution_count": 13,
   "metadata": {
    "scrolled": false
   },
   "outputs": [
    {
     "name": "stdout",
     "output_type": "stream",
     "text": [
      "Normalized Median Absolute Deviation: 0.89350\n",
      "Scipy Normalized Median Absolute Deviation: 0.89350\n",
      "Normalized Median Absolute Deviation of log(data): 1.00756\n"
     ]
    }
   ],
   "source": [
    "meddata=np.median(data)\n",
    "normmad = np.median(np.abs(data-meddata))/0.6745\n",
    "normmad_log = np.median(abs(np.log(data)-np.log(meddata)))/0.6745\n",
    "normmad_scipy = stats.median_abs_deviation(data,scale='normal')\n",
    "\n",
    "print(f'Normalized Median Absolute Deviation: {normmad:.5f}')\n",
    "print(f'Scipy Normalized Median Absolute Deviation: {normmad:.5f}')\n",
    "print(f'Normalized Median Absolute Deviation of log(data): {normmad_log:.5f}')"
   ]
  },
  {
   "cell_type": "markdown",
   "metadata": {},
   "source": [
    "### Calculating the IQR:\n",
    "\n",
    "__Discuss with your group: why do these values agree or not with the standard deviation?__"
   ]
  },
  {
   "cell_type": "code",
   "execution_count": 14,
   "metadata": {
    "scrolled": false
   },
   "outputs": [
    {
     "name": "stdout",
     "output_type": "stream",
     "text": [
      "Normalized IQR: 1.08499\n",
      "Normalized IQR of log(data): 1.00712\n"
     ]
    }
   ],
   "source": [
    "d25,d75 = np.percentile(data,[25,75])\n",
    "normiqr = (d75-d25)/1.349\n",
    "normiqr_log = (np.log(d75)-np.log(d25))/1.349\n",
    "\n",
    "\n",
    "print(f'Normalized IQR: {normiqr:.5f}')\n",
    "print(f'Normalized IQR of log(data): {normiqr_log:.5f}')"
   ]
  },
  {
   "cell_type": "markdown",
   "metadata": {},
   "source": [
    "# Results when averaging data together"
   ]
  },
  {
   "cell_type": "code",
   "execution_count": 15,
   "metadata": {
    "scrolled": false
   },
   "outputs": [],
   "source": [
    "nsims=int(1E5)\n",
    "navg=100\n",
    "data=random.randn(nsims,navg) # randn - mean of zero standard deviation of 1\n",
    "\n",
    "# average each set of navg values\n",
    "means=np.mean(data,axis=1)\n"
   ]
  },
  {
   "cell_type": "markdown",
   "metadata": {},
   "source": [
    "- __Using the below code block, plot a histogram of the distribution of the means from each simulation, with binsize 0.01, over the range from -2 to +2 (what should you set the `bins` and `range` keywords to be for that?)__\n",
    "\n",
    "- __Determine the standard deviation of the array of means__"
   ]
  },
  {
   "cell_type": "markdown",
   "metadata": {},
   "source": []
  },
  {
   "cell_type": "code",
   "execution_count": 16,
   "metadata": {
    "scrolled": true
   },
   "outputs": [
    {
     "name": "stdout",
     "output_type": "stream",
     "text": [
      "Standard Deviation of the Means n_avg = 100: 0.09976064007745494\n"
     ]
    },
    {
     "data": {
      "image/png": "[encoded data removed]",
      "text/plain": [
       "<Figure size 640x480 with 1 Axes>"
      ]
     },
     "metadata": {},
     "output_type": "display_data"
    },
    {
     "name": "stdout",
     "output_type": "stream",
     "text": [
      "Standard Deviation of the Means for navg = 9: 0.33332649609366516\n"
     ]
    }
   ],
   "source": [
    "plt.hist(means, bins=np.arange(-2, 2, 0.01), range=(-2, 2), density=True, label=f'navg = {navg}')\n",
    "plt.xlabel('Means')\n",
    "plt.ylabel('Frequency')\n",
    "plt.title('Histogram of the Distribution of Means')\n",
    "\n",
    "std_means = np.std(means)\n",
    "print(f'Standard Deviation of the Means n_avg = 100: {std_means}')\n",
    "\n",
    "\n",
    "# Create a second set of simulations with navg = 9\n",
    "navg2 = 9\n",
    "data2 = random.randn(nsims, navg2)\n",
    "means2 = np.mean(data2, axis=1)\n",
    "\n",
    "# Plot the histogram of results from these simulations on top of the histogram for averaging 100 measurements\n",
    "plt.hist(means2, bins=np.arange(-2, 2, 0.01), range=(-2, 2), density=True, alpha=0.5, label=f'navg = {navg2}')\n",
    "plt.xlabel('Means')\n",
    "plt.ylabel('Frequency')\n",
    "plt.title('Histogram of the Distribution of Means')\n",
    "plt.legend()\n",
    "plt.show()\n",
    "\n",
    "# Determine the standard deviation of the array of means for navg = 9\n",
    "std_means2 = np.std(means2)\n",
    "print(f'Standard Deviation of the Means for navg = {navg2}: {std_means2}')"
   ]
  },
  {
   "cell_type": "markdown",
   "metadata": {},
   "source": [
    "- __Now, in the above code box, create a second set of simulations with `navg` = 9.  Plot the histogram of results from these simulations on top of the histogram for averaging 100 measurements.__\n",
    "\n",
    "__Discuss with your group: How do you explain the differences between the results (both qualitatively and quantitatively)? How does the scatter of the means scale with `navg`?__"
   ]
  },
  {
   "cell_type": "code",
   "execution_count": null,
   "metadata": {
    "scrolled": true
   },
   "outputs": [],
   "source": []
  },
  {
   "cell_type": "markdown",
   "metadata": {},
   "source": [
    "# If you have extra time\n",
    "\n",
    "- Try a wide variety of binnings and explore how the mode of our lognormal data changes as the bin size does.\n",
    "\n",
    "- Create a dataset that is drawn from two different distributions:\n",
    "    - 90% of the time draw from a standard normal ($N(0,1)$)\n",
    "    - 10% of the time draw a value from a different distribution: $\\exp(N(0,1)$)\n",
    "\n",
    "    Calculate all of our measures of location and scale for this mixed dataset.  Which (if any) give you the expected values for a standard normal distribution?\n"
   ]
  },
  {
   "cell_type": "markdown",
   "metadata": {},
   "source": []
  }
 ],
 "metadata": {
  "anaconda-cloud": {},
  "kernelspec": {
   "display_name": "datascience",
   "language": "python",
   "name": "python3"
  },
  "language_info": {
   "codemirror_mode": {
    "name": "ipython",
    "version": 3
   },
   "file_extension": ".py",
   "mimetype": "text/x-python",
   "name": "python",
   "nbconvert_exporter": "python",
   "pygments_lexer": "ipython3",
   "version": "3.13.2"
  }
 },
 "nbformat": 4,
 "nbformat_minor": 1
}
